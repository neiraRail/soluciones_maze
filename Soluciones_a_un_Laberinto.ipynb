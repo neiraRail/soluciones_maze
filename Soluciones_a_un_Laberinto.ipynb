{
  "nbformat": 4,
  "nbformat_minor": 0,
  "metadata": {
    "colab": {
      "name": "Soluciones a un Laberinto.ipynb",
      "provenance": [],
      "collapsed_sections": [],
      "authorship_tag": "ABX9TyOIwJoN7dD6PaeYeDASzscc",
      "include_colab_link": true
    },
    "kernelspec": {
      "name": "python3",
      "display_name": "Python 3"
    },
    "language_info": {
      "name": "python"
    }
  },
  "cells": [
    {
      "cell_type": "markdown",
      "metadata": {
        "id": "view-in-github",
        "colab_type": "text"
      },
      "source": [
        "<a href=\"https://colab.research.google.com/github/neiraRail/soluciones_maze/blob/main/Soluciones_a_un_Laberinto.ipynb\" target=\"_parent\"><img src=\"https://colab.research.google.com/assets/colab-badge.svg\" alt=\"Open In Colab\"/></a>"
      ]
    },
    {
      "cell_type": "markdown",
      "source": [
        "### Funciones de objetivo"
      ],
      "metadata": {
        "id": "P4nqzO3JVnVr"
      }
    },
    {
      "cell_type": "code",
      "source": [
        "def llegamos(estado):\n",
        "  return estado == [6,4]\n",
        "\n",
        "def estamosBloqueados(mapa, pos):\n",
        "  return mapa[pos[0]][pos[1]] == 9\n"
      ],
      "metadata": {
        "id": "QTSXT76z2hUD"
      },
      "execution_count": 12,
      "outputs": []
    },
    {
      "cell_type": "markdown",
      "source": [
        "### Funciones de movimiento"
      ],
      "metadata": {
        "id": "lw0SLUhoV5fh"
      }
    },
    {
      "cell_type": "code",
      "source": [
        "def moverAbajo(pos):\n",
        "  return [pos[0]+1, pos[1]]\n",
        "\n",
        "def moverArriba(pos):\n",
        "  return [pos[0]-1, pos[1]]\n",
        "\n",
        "def moverDerecha(pos):\n",
        "  return [pos[0], pos[1]+1]\n",
        "\n",
        "def moverIzquierda(pos):\n",
        "  return [pos[0], pos[1]-1]"
      ],
      "metadata": {
        "id": "uuCOXtxA218c"
      },
      "execution_count": 4,
      "outputs": []
    },
    {
      "cell_type": "markdown",
      "source": [
        "### Funciones de percepción"
      ],
      "metadata": {
        "id": "0IoyeN5oWCud"
      }
    },
    {
      "cell_type": "code",
      "source": [
        "def checkAbajo(mapa, pos):\n",
        "  if not pos[0] + 1 == len(mapa):\n",
        "    return mapa[pos[0]+1][pos[1]] == 0\n",
        "  else:\n",
        "    return False\n",
        "\n",
        "def checkArriba(mapa, pos):\n",
        "  if not pos[0] == 0:\n",
        "    return mapa[pos[0]-1][pos[1]] == 0\n",
        "  else:\n",
        "    return False\n",
        "  \n",
        "def checkDerecha(mapa, pos):\n",
        "  if not pos[1] + 1 == len(mapa[0]): \n",
        "    return mapa[pos[0]][pos[1]+1] == 0\n",
        "  else:\n",
        "    return False\n",
        "  \n",
        "def checkIzquierda(mapa, pos):\n",
        "  if not pos[1] == 0:\n",
        "    return mapa[pos[0]][pos[1]-1] == 0 \n",
        "  else:\n",
        "    return False\n",
        "\n",
        "def numeroDeCaminos(mapa, pos):\n",
        "  return checkArriba(mapa, pos)+checkAbajo(mapa, pos)+checkDerecha(mapa, pos)+checkIzquierda(mapa, pos)"
      ],
      "metadata": {
        "id": "xXUbNfNJ7DoD"
      },
      "execution_count": 5,
      "outputs": []
    },
    {
      "cell_type": "markdown",
      "source": [
        "### Historial"
      ],
      "metadata": {
        "id": "WvIl6yaAWD7D"
      }
    },
    {
      "cell_type": "code",
      "source": [
        "def guardarMovimiento(historial, pos):\n",
        "  historial.append(pos)\n",
        "  return historial"
      ],
      "metadata": {
        "id": "4KBg3c__Lyg6"
      },
      "execution_count": 6,
      "outputs": []
    },
    {
      "cell_type": "markdown",
      "source": [
        "### Funciones que modifican el entorno"
      ],
      "metadata": {
        "id": "dwTVQhxqWPYa"
      }
    },
    {
      "cell_type": "code",
      "source": [
        "def marcarBloqueo(mapa, pos):\n",
        "  mapa[pos[0]][pos[1]] = 9\n",
        "  return mapa\n",
        "\n",
        "def marcarPos(mapa, pos):\n",
        "  mapa[pos[0]][pos[1]] = 2\n",
        "  return mapa\n",
        "\n",
        "def imprimir(mapa):\n",
        "  for linea in mapa:\n",
        "    strlinea = \"\"\n",
        "    for celda in linea:\n",
        "      if celda == 1:\n",
        "        strlinea+=\"█ \"\n",
        "      else:\n",
        "        strlinea+=str(celda)+' '\n",
        "    print(strlinea)\n",
        "\n",
        "def limpiarRuta(mapa):\n",
        "  for i in range(len(mapa)):\n",
        "    for j in range(len(mapa[i])):\n",
        "      if mapa[i][j] == 2:\n",
        "        mapa[i][j] = 0\n",
        "  return mapa\n"
      ],
      "metadata": {
        "id": "H-UlAAheAs1Q"
      },
      "execution_count": 23,
      "outputs": []
    },
    {
      "cell_type": "markdown",
      "source": [
        "## Algoritmo principal:\n",
        "\n",
        "- El agente se mueve siguiendo la siguiente preferencia: \n",
        "  - primero abajo\n",
        "  - derecha\n",
        "  - arriba\n",
        "  - izquierda\n",
        "- Si se queda estancado, marca el ultimo paso como bloqueado\n",
        "- Si llega al objetivo se guarda la ruta que realizó como una solución\n",
        "- Se repite hasta estar bloqueado o encontrar la solución"
      ],
      "metadata": {
        "id": "qchLehP6WUPf"
      }
    },
    {
      "cell_type": "code",
      "source": [
        "import copy\n",
        "\n",
        "def encontrarSolucion(a, posInicial):\n",
        "  mapa = copy.deepcopy(a)\n",
        "  solucionado = False\n",
        "  while not solucionado:\n",
        "    pos = posInicial\n",
        "    ruta = []\n",
        "    seguirRuta = True\n",
        "    while seguirRuta:\n",
        "      if llegamos(pos):\n",
        "        seguirRuta = False\n",
        "        solucionado = True\n",
        "        imprimir(mapa)\n",
        "        mapa = limpiarRuta(mapa)\n",
        "      elif estamosBloqueados(mapa, pos):\n",
        "        seguirRuta = False\n",
        "        solucionado = False\n",
        "        imprimir(mapa)\n",
        "        mapa = limpiarRuta(mapa)\n",
        "        raise\n",
        "      else:\n",
        "        mapa = marcarPos(mapa, pos)\n",
        "        ruta = guardarMovimiento(ruta, pos)\n",
        "        if checkAbajo(mapa, pos):\n",
        "          pos = moverAbajo(pos)\n",
        "        elif checkDerecha(mapa, pos):\n",
        "          pos = moverDerecha(pos)\n",
        "        elif checkArriba(mapa, pos):\n",
        "          pos = moverArriba(pos)\n",
        "        elif checkIzquierda(mapa, pos):\n",
        "          pos = moverIzquierda(pos)\n",
        "        else:\n",
        "          mapa = marcarBloqueo(mapa, pos)\n",
        "          seguirRuta = False\n",
        "          mapa = limpiarRuta(mapa)   \n",
        "\n",
        "  \n",
        "  \n",
        "  print(ruta)\n",
        "  return ruta, mapa"
      ],
      "metadata": {
        "id": "FpMeox-OBKhE"
      },
      "execution_count": 31,
      "outputs": []
    },
    {
      "cell_type": "code",
      "source": [
        "def difurcaciones(mapa, sol):\n",
        "  dif = []\n",
        "  for index, paso in enumerate(sol):\n",
        "    if index == 0:\n",
        "      if numeroDeCaminos(mapa, paso)>1:\n",
        "        dif.append({\n",
        "            \"paso\": paso,\n",
        "            \"sig\":  sol[index+1]\n",
        "        })\n",
        "    elif numeroDeCaminos(mapa, paso) > 2:\n",
        "      dif.append({\n",
        "          \"paso\": paso,\n",
        "          \"sig\":  sol[index+1]\n",
        "      })\n",
        "\n",
        "  return dif\n",
        "\n",
        "\n",
        "def truncarRuta(ruta, pos):\n",
        "  nueva = []\n",
        "  for paso in ruta:\n",
        "    if paso == pos:\n",
        "      return nueva\n",
        "    else:\n",
        "      nueva.append(paso)\n",
        "\n",
        "  return nueva"
      ],
      "metadata": {
        "id": "6Rv-ujKmd0MY"
      },
      "execution_count": 9,
      "outputs": []
    },
    {
      "cell_type": "code",
      "execution_count": 29,
      "metadata": {
        "id": "iQatMzZV2R1i"
      },
      "outputs": [],
      "source": [
        "laberinto = [\n",
        "    [0, 0, 0, 0, 0],\n",
        "    [0, 1, 0, 1, 0],\n",
        "    [0, 0, 0, 0, 0],\n",
        "    [1, 0, 1, 0, 1],\n",
        "    [1, 0, 1, 0, 0],\n",
        "    [1, 0, 1, 1, 0],\n",
        "    [1, 0, 1, 1, 0]\n",
        "]"
      ]
    },
    {
      "cell_type": "code",
      "source": [
        "soluciones = []\n",
        "try:\n",
        "  sol, mapa = encontrarSolucion(laberinto, [0,0])\n",
        "  soluciones.append(sol)\n",
        "except:\n",
        "  print(\"Sin solución\")\n",
        "else:\n",
        "  difs = difurcaciones(mapa, sol)\n",
        "  difs.reverse()\n",
        "  print(\"-----$$$ Difurcaciones de la ruta principal\")\n",
        "  for dif in difs:\n",
        "    iniciales = []\n",
        "    localMapa = copy.deepcopy(mapa)\n",
        "    ##Marcar ruta hasta ahora\n",
        "    for paso in truncarRuta(sol, dif[\"paso\"]):\n",
        "      localMapa = marcarBloqueo(localMapa, paso)\n",
        "    localMapa = marcarBloqueo(localMapa, dif['paso'])\n",
        "    ##Intentar con todas las direcciones menos la siguiente de la primera solución\n",
        "    if checkAbajo(localMapa, dif['paso']) and not moverAbajo(dif['paso']) == dif['sig']:\n",
        "      iniciales.append(moverAbajo(dif['paso']))\n",
        "    if checkDerecha(localMapa, dif['paso']) and not moverDerecha(dif['paso']) == dif['sig']:\n",
        "      iniciales.append(moverDerecha(dif['paso']))\n",
        "    if checkArriba(localMapa, dif['paso']) and not moverArriba(dif['paso']) == dif['sig']:\n",
        "      iniciales.append(moverArriba(dif['paso']))\n",
        "    if checkIzquierda(localMapa, dif['paso']) and not moverIzquierda(dif['paso']) == dif['sig']:\n",
        "      iniciales.append(moverIzquierda(dif['paso']))\n",
        "    #Repetir algoritmo de busqueda\n",
        "    for inicial in iniciales:\n",
        "      try:\n",
        "        nuevaSol, otroMapa = encontrarSolucion(localMapa, inicial)\n",
        "      except:\n",
        "        print(\"Difurcasión sin solución\")\n",
        "      else:\n",
        "        soluciones.append(nuevaSol)\n",
        "\n",
        "\n",
        "print(\"------$$$ Soluciones\")\n",
        "print(\"nro de soluciones: \"+str(len(soluciones)))"
      ],
      "metadata": {
        "colab": {
          "base_uri": "https://localhost:8080/"
        },
        "id": "GsuITXC3ao2j",
        "outputId": "b8dac16e-910d-448a-9716-4c14a0c43f0f"
      },
      "execution_count": 32,
      "outputs": [
        {
          "output_type": "stream",
          "name": "stdout",
          "text": [
            "2 0 0 0 0 \n",
            "2 █ 0 █ 0 \n",
            "2 2 2 2 0 \n",
            "█ 9 █ 2 █ \n",
            "█ 9 █ 2 2 \n",
            "█ 9 █ █ 2 \n",
            "█ 9 █ █ 0 \n",
            "[[0, 0], [1, 0], [2, 0], [2, 1], [2, 2], [2, 3], [3, 3], [4, 3], [4, 4], [5, 4]]\n",
            "-----$$$ Difurcaciones de la ruta principal\n",
            "9 9 9 9 9 \n",
            "9 █ 9 █ 9 \n",
            "9 9 9 9 9 \n",
            "█ 9 █ 0 █ \n",
            "█ 9 █ 0 0 \n",
            "█ 9 █ █ 0 \n",
            "█ 9 █ █ 0 \n",
            "Difurcasión sin solución\n",
            "9 0 2 2 2 \n",
            "9 █ 2 █ 2 \n",
            "9 9 9 2 2 \n",
            "█ 9 █ 2 █ \n",
            "█ 9 █ 2 2 \n",
            "█ 9 █ █ 2 \n",
            "█ 9 █ █ 0 \n",
            "[[1, 2], [0, 2], [0, 3], [0, 4], [1, 4], [2, 4], [2, 3], [3, 3], [4, 3], [4, 4], [5, 4]]\n",
            "9 2 2 0 0 \n",
            "0 █ 2 █ 0 \n",
            "0 0 2 2 0 \n",
            "█ 9 █ 2 █ \n",
            "█ 9 █ 2 2 \n",
            "█ 9 █ █ 2 \n",
            "█ 9 █ █ 0 \n",
            "[[0, 1], [0, 2], [1, 2], [2, 2], [2, 3], [3, 3], [4, 3], [4, 4], [5, 4]]\n",
            "------$$$ Soluciones\n",
            "nro de soluciones: 3\n"
          ]
        }
      ]
    }
  ]
}